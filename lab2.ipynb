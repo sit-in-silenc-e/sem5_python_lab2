{
 "cells": [
  {
   "cell_type": "code",
   "execution_count": 1,
   "id": "f63e8a43-da2d-421c-9fef-d84f20fa661d",
   "metadata": {},
   "outputs": [
    {
     "name": "stdout",
     "output_type": "stream",
     "text": [
      "Варіант №  3\n"
     ]
    }
   ],
   "source": [
    "n = (13 + 4) % 5 + 1\n",
    "print(\"Варіант № \", n)"
   ]
  },
  {
   "cell_type": "code",
   "execution_count": 8,
   "id": "59dde20e-2397-4ab3-8e99-d50f319fcb7f",
   "metadata": {},
   "outputs": [
    {
     "name": "stdout",
     "output_type": "stream",
     "text": [
      "   Id       Name  Year Gender  Count\n",
      "0   1       Mary  1880      F   7065\n",
      "1   2       Anna  1880      F   2604\n",
      "2   3       Emma  1880      F   2003\n",
      "3   4  Elizabeth  1880      F   1939\n",
      "4   5     Minnie  1880      F   1746\n"
     ]
    }
   ],
   "source": [
    "# task 1\n",
    "import pandas as pd\n",
    "names = pd.read_csv(\"NationalNames.csv\")\n",
    "print(names.head(8))"
   ]
  },
  {
   "cell_type": "code",
   "execution_count": 10,
   "id": "b6b21f03-602f-4ee1-8edf-224eaaac5740",
   "metadata": {},
   "outputs": [
    {
     "name": "stdout",
     "output_type": "stream",
     "text": [
      "              Id     Name  Year Gender  Count\n",
      "1825425  1825426       Zo  2014      M      5\n",
      "1825426  1825427    Zyeir  2014      M      5\n",
      "1825427  1825428     Zyel  2014      M      5\n",
      "1825428  1825429   Zykeem  2014      M      5\n",
      "1825429  1825430   Zymeer  2014      M      5\n",
      "1825430  1825431  Zymiere  2014      M      5\n",
      "1825431  1825432    Zyran  2014      M      5\n",
      "1825432  1825433    Zyrin  2014      M      5\n"
     ]
    }
   ],
   "source": [
    "# task 2\n",
    "print(names.tail(8))"
   ]
  },
  {
   "cell_type": "code",
   "execution_count": 12,
   "id": "a763228b-0879-4866-84f1-68a2317983fb",
   "metadata": {},
   "outputs": [
    {
     "data": {
      "text/plain": [
       "Index(['Id', 'Name', 'Year', 'Gender', 'Count'], dtype='object')"
      ]
     },
     "execution_count": 12,
     "metadata": {},
     "output_type": "execute_result"
    }
   ],
   "source": [
    "# task 3\n",
    "names.columns"
   ]
  },
  {
   "cell_type": "code",
   "execution_count": 16,
   "id": "97cba9fe-d9e3-4579-a493-365b77c4da39",
   "metadata": {},
   "outputs": [
    {
     "name": "stdout",
     "output_type": "stream",
     "text": [
      "93889\n"
     ]
    }
   ],
   "source": [
    "# task 5\n",
    "unique_names_count = names['Name'].nunique()\n",
    "\n",
    "print(unique_names_count)"
   ]
  },
  {
   "cell_type": "code",
   "execution_count": 56,
   "id": "b781f92f-3a71-4ead-91ca-5dbc3960cb3b",
   "metadata": {},
   "outputs": [
    {
     "name": "stdout",
     "output_type": "stream",
     "text": [
      "Year\n",
      "1880    1889\n",
      "1881    1830\n",
      "1882    2012\n",
      "1883    1962\n",
      "1884    2158\n",
      "Name: Name, dtype: int64\n"
     ]
    }
   ],
   "source": [
    "# task 10\n",
    "unique_per_year = names.groupby('Year')['Name'].nunique()\n",
    "\n",
    "print(unique_per_year.head(5))"
   ]
  },
  {
   "cell_type": "code",
   "execution_count": 30,
   "id": "87148606-9e20-4160-9195-94f62f0d3aec",
   "metadata": {},
   "outputs": [
    {
     "name": "stdout",
     "output_type": "stream",
     "text": [
      "2008 32488\n"
     ]
    }
   ],
   "source": [
    "# task 11\n",
    "most_unique = unique_per_year.idxmax()\n",
    "\n",
    "print(most_unique, unique_per_year[most_unique])"
   ]
  },
  {
   "cell_type": "code",
   "execution_count": 40,
   "id": "f0b5898e-7f06-4c26-b963-f0c305938298",
   "metadata": {},
   "outputs": [
    {
     "name": "stdout",
     "output_type": "stream",
     "text": [
      "Jacob\n"
     ]
    }
   ],
   "source": [
    "# task 12\n",
    "data_2008 = names[names['Year'] == 2008]\n",
    "most_popular_name_2008 = data_2008.loc[data_2008['Count'].idxmax(), 'Name']\n",
    "\n",
    "print(most_popular_name_2008)"
   ]
  },
  {
   "cell_type": "code",
   "execution_count": 44,
   "id": "84defbef-e109-43a9-98ec-db631573111a",
   "metadata": {},
   "outputs": [
    {
     "name": "stdout",
     "output_type": "stream",
     "text": [
      "2004\n"
     ]
    }
   ],
   "source": [
    "# task 13\n",
    "jacob_fem = names[(names['Name'] == 'Jacob') & (names['Gender'] == 'F')]\n",
    "most_popular_jacob_fem = jacob_fem.loc[jacob_fem['Count'].idxmax()]\n",
    "\n",
    "print(most_popular_jacob_fem)"
   ]
  },
  {
   "cell_type": "code",
   "execution_count": 52,
   "id": "9e2afc6b-320e-4696-b8c9-efc09b52fe08",
   "metadata": {},
   "outputs": [
    {
     "name": "stdout",
     "output_type": "stream",
     "text": [
      "Year: 2008, Count of Gender-Neutral Names: 34291\n"
     ]
    }
   ],
   "source": [
    "# task 14\n",
    "gn_names = names[names.duplicated(subset='Name', keep=False)]\n",
    "gn_count = gn_names.groupby('Year')['Name'].count()\n",
    "year_max_gn = gn_count.idxmax()\n",
    "max_gn_count = gn_count.max()\n",
    "\n",
    "print(f\"Year: {year_max_gn}, Gender-Neutral Names: {max_gn_count}\")"
   ]
  },
  {
   "cell_type": "code",
   "execution_count": 58,
   "id": "7a72a0e6-7c0a-4674-b0fe-f1b122135f4b",
   "metadata": {},
   "outputs": [
    {
     "name": "stdout",
     "output_type": "stream",
     "text": [
      "Year\n",
      "1880    201484\n",
      "1881    192699\n",
      "1882    221538\n",
      "1883    216950\n",
      "1884    243467\n",
      "Name: Count, dtype: int64\n"
     ]
    }
   ],
   "source": [
    "# task 15\n",
    "total_births_per_year = names.groupby('Year')['Count'].sum()\n",
    "\n",
    "print(total_births_per_year.head(5))"
   ]
  },
  {
   "cell_type": "code",
   "execution_count": 62,
   "id": "97bda35f-fd80-461f-a165-51a72bc7d4a1",
   "metadata": {},
   "outputs": [
    {
     "name": "stdout",
     "output_type": "stream",
     "text": [
      "Gender       F       M\n",
      "Year                  \n",
      "1880     90993  110491\n",
      "1881     91954  100745\n",
      "1882    107850  113688\n",
      "1883    112321  104629\n",
      "1884    129022  114445\n"
     ]
    }
   ],
   "source": [
    "# task 17\n",
    "births_by_gender = names.groupby(['Year', 'Gender'])['Count'].sum().unstack()\n",
    "\n",
    "print(births_by_gender.head(5))"
   ]
  },
  {
   "cell_type": "code",
   "execution_count": 64,
   "id": "b36565e1-ef67-4a34-9b00-f7f77115f428",
   "metadata": {},
   "outputs": [
    {
     "name": "stdout",
     "output_type": "stream",
     "text": [
      "54\n"
     ]
    }
   ],
   "source": [
    "# task 18\n",
    "births_by_gender = names.groupby(['Year', 'Gender'])['Count'].sum().unstack()\n",
    "years_more_girls = (births_by_gender['F'] > births_by_gender['M']).sum()\n",
    "\n",
    "print(years_more_girls)"
   ]
  },
  {
   "cell_type": "code",
   "execution_count": 70,
   "id": "cc5aca95-4176-4364-9967-1f581aa7790e",
   "metadata": {},
   "outputs": [
    {
     "name": "stdout",
     "output_type": "stream",
     "text": [
      "4139\n"
     ]
    }
   ],
   "source": [
    "# task 21\n",
    "barbara_m = names[(names['Name'] == 'Barbara') & (names['Gender'] == 'M')]\n",
    "barbara_m_count = barbara_m['Count'].sum()\n",
    "\n",
    "print(barbara_m_count)"
   ]
  },
  {
   "cell_type": "code",
   "execution_count": 72,
   "id": "a3715c5c-5b9e-479d-863d-c3861e5fb51c",
   "metadata": {},
   "outputs": [
    {
     "name": "stdout",
     "output_type": "stream",
     "text": [
      "Дослідження проводилося 135 років\n"
     ]
    }
   ],
   "source": [
    "# task 22\n",
    "number_of_years = names['Year'].nunique()\n",
    "\n",
    "print(f\"Дослідження проводилося {number_of_years} років\")"
   ]
  },
  {
   "cell_type": "code",
   "execution_count": 116,
   "id": "8ac78c21-3841-4904-80d0-cd7bd0a82c43",
   "metadata": {},
   "outputs": [
    {
     "name": "stdout",
     "output_type": "stream",
     "text": [
      "['Francis', 'James', 'Jean', 'Jesse', 'Jessie', 'John', 'Johnnie', 'Joseph', 'Lee', 'Leslie', 'Marion', 'Ollie', 'Robert', 'Sidney', 'Tommie', 'William']\n"
     ]
    }
   ],
   "source": [
    "# task 23\n",
    "# all gn\n",
    "gender_counts = names.groupby('Name')['Gender'].nunique()\n",
    "neutral_names = gender_counts[gender_counts == 2].index\n",
    "\n",
    "# Групуємо по імені та року, рахуємо кількість статей у кожному році\n",
    "yearly_gender_counts = names[names['Name'].isin(neutral_names)].groupby(['Name', 'Year'])['Gender'].nunique()\n",
    "\n",
    "# all years where the name was gn\n",
    "years_neutral = yearly_gender_counts[yearly_gender_counts == 2].reset_index().groupby('Name')['Year'].nunique()\n",
    "\n",
    "# gn in all years\n",
    "total_years = names['Year'].nunique()\n",
    "consistent_neutral = years_neutral[years_neutral == total_years].index.tolist()\n",
    "\n",
    "print(consistent_neutral)"
   ]
  },
  {
   "cell_type": "code",
   "execution_count": 106,
   "id": "b7fc08de-5fc2-4a72-bcc2-999e60ffc3bf",
   "metadata": {},
   "outputs": [
    {
     "name": "stdout",
     "output_type": "stream",
     "text": [
      "Найбільш популярне з непопулярних імен - це Celester. Їм називали 160 раз\n"
     ]
    }
   ],
   "source": [
    "# task 24\n",
    "unpopular = names[names['Count'] == names['Count'].min()]\n",
    "name_counts = unpopular.groupby('Name')['Count'].sum()\n",
    "max_name = name_counts.sort_values(ascending=False).index[0]\n",
    "max_count = name_counts.max()\n",
    "\n",
    "print(f\"Найбільш популярне з непопулярних імен - це {max_name}. Їм називали {max_count} разів\")"
   ]
  },
  {
   "cell_type": "code",
   "execution_count": 108,
   "id": "ef029e32-eb82-4269-b605-2e1abb8e6aa4",
   "metadata": {},
   "outputs": [
    {
     "data": {
      "image/png": "[encoded data removed]",
      "text/plain": [
       "<Figure size 1000x600 with 1 Axes>"
      ]
     },
     "metadata": {},
     "output_type": "display_data"
    }
   ],
   "source": [
    "# task 26\n",
    "import matplotlib.pyplot as plt\n",
    "\n",
    "john_female = names[(names['Name'] == 'John') & (names['Gender'] == 'F')]\n",
    "mary_male = names[(names['Name'] == 'Mary') & (names['Gender'] == 'M')]\n",
    "\n",
    "plt.figure(figsize=(10, 6))\n",
    "plt.plot(john_female['Year'], john_female['Count'], label='John', color='blue')\n",
    "plt.plot(mary_male['Year'], mary_male['Count'], label='Mary', color='orange')\n",
    "\n",
    "plt.xlabel('Year')\n",
    "plt.ylabel('Count')\n",
    "plt.legend()\n",
    "plt.grid(True, alpha=0.3)\n",
    "plt.title('Розподіл кількості жіночих імен John та чоловічих Mary по роках')\n",
    "\n",
    "plt.show()"
   ]
  },
  {
   "cell_type": "code",
   "execution_count": null,
   "id": "924b75af-b452-45ed-936f-6998e12084a0",
   "metadata": {},
   "outputs": [],
   "source": []
  }
 ],
 "metadata": {
  "kernelspec": {
   "display_name": "Python 3 (ipykernel)",
   "language": "python",
   "name": "python3"
  },
  "language_info": {
   "codemirror_mode": {
    "name": "ipython",
    "version": 3
   },
   "file_extension": ".py",
   "mimetype": "text/x-python",
   "name": "python",
   "nbconvert_exporter": "python",
   "pygments_lexer": "ipython3",
   "version": "3.12.4"
  }
 },
 "nbformat": 4,
 "nbformat_minor": 5
}
